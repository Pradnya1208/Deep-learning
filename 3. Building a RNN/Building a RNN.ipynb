{
 "cells": [
  {
   "cell_type": "markdown",
   "metadata": {},
   "source": [
    "### Building a RNN"
   ]
  },
  {
   "cell_type": "code",
   "execution_count": 14,
   "metadata": {},
   "outputs": [],
   "source": [
    "import numpy as np\n",
    "import pandas as pd\n",
    "import matplotlib.pyplot as plt"
   ]
  },
  {
   "cell_type": "code",
   "execution_count": 15,
   "metadata": {},
   "outputs": [
    {
     "data": {
      "text/html": [
       "<div>\n",
       "<style scoped>\n",
       "    .dataframe tbody tr th:only-of-type {\n",
       "        vertical-align: middle;\n",
       "    }\n",
       "\n",
       "    .dataframe tbody tr th {\n",
       "        vertical-align: top;\n",
       "    }\n",
       "\n",
       "    .dataframe thead th {\n",
       "        text-align: right;\n",
       "    }\n",
       "</style>\n",
       "<table border=\"1\" class=\"dataframe\">\n",
       "  <thead>\n",
       "    <tr style=\"text-align: right;\">\n",
       "      <th></th>\n",
       "      <th>Date</th>\n",
       "      <th>Open</th>\n",
       "      <th>High</th>\n",
       "      <th>Low</th>\n",
       "      <th>Close</th>\n",
       "      <th>Volume</th>\n",
       "    </tr>\n",
       "  </thead>\n",
       "  <tbody>\n",
       "    <tr>\n",
       "      <th>0</th>\n",
       "      <td>1/3/2012</td>\n",
       "      <td>325.25</td>\n",
       "      <td>332.83</td>\n",
       "      <td>324.97</td>\n",
       "      <td>663.59</td>\n",
       "      <td>7,380,500</td>\n",
       "    </tr>\n",
       "    <tr>\n",
       "      <th>1</th>\n",
       "      <td>1/4/2012</td>\n",
       "      <td>331.27</td>\n",
       "      <td>333.87</td>\n",
       "      <td>329.08</td>\n",
       "      <td>666.45</td>\n",
       "      <td>5,749,400</td>\n",
       "    </tr>\n",
       "    <tr>\n",
       "      <th>2</th>\n",
       "      <td>1/5/2012</td>\n",
       "      <td>329.83</td>\n",
       "      <td>330.75</td>\n",
       "      <td>326.89</td>\n",
       "      <td>657.21</td>\n",
       "      <td>6,590,300</td>\n",
       "    </tr>\n",
       "    <tr>\n",
       "      <th>3</th>\n",
       "      <td>1/6/2012</td>\n",
       "      <td>328.34</td>\n",
       "      <td>328.77</td>\n",
       "      <td>323.68</td>\n",
       "      <td>648.24</td>\n",
       "      <td>5,405,900</td>\n",
       "    </tr>\n",
       "    <tr>\n",
       "      <th>4</th>\n",
       "      <td>1/9/2012</td>\n",
       "      <td>322.04</td>\n",
       "      <td>322.29</td>\n",
       "      <td>309.46</td>\n",
       "      <td>620.76</td>\n",
       "      <td>11,688,800</td>\n",
       "    </tr>\n",
       "  </tbody>\n",
       "</table>\n",
       "</div>"
      ],
      "text/plain": [
       "       Date    Open    High     Low   Close      Volume\n",
       "0  1/3/2012  325.25  332.83  324.97  663.59   7,380,500\n",
       "1  1/4/2012  331.27  333.87  329.08  666.45   5,749,400\n",
       "2  1/5/2012  329.83  330.75  326.89  657.21   6,590,300\n",
       "3  1/6/2012  328.34  328.77  323.68  648.24   5,405,900\n",
       "4  1/9/2012  322.04  322.29  309.46  620.76  11,688,800"
      ]
     },
     "execution_count": 15,
     "metadata": {},
     "output_type": "execute_result"
    }
   ],
   "source": [
    "#import the training set\n",
    "data_train = pd.read_csv(\"Google_Stock_Price_Train.csv\")\n",
    "data_train.head()"
   ]
  },
  {
   "cell_type": "code",
   "execution_count": 16,
   "metadata": {},
   "outputs": [
    {
     "data": {
      "text/plain": [
       "array([[325.25],\n",
       "       [331.27],\n",
       "       [329.83],\n",
       "       ...,\n",
       "       [793.7 ],\n",
       "       [783.33],\n",
       "       [782.75]])"
      ]
     },
     "execution_count": 16,
     "metadata": {},
     "output_type": "execute_result"
    }
   ],
   "source": [
    "training_set = data_train.iloc[:,1:2].values\n",
    "training_set"
   ]
  },
  {
   "cell_type": "code",
   "execution_count": 17,
   "metadata": {},
   "outputs": [
    {
     "data": {
      "text/plain": [
       "array([[0.08581368],\n",
       "       [0.09701243],\n",
       "       [0.09433366],\n",
       "       ...,\n",
       "       [0.95725128],\n",
       "       [0.93796041],\n",
       "       [0.93688146]])"
      ]
     },
     "execution_count": 17,
     "metadata": {},
     "output_type": "execute_result"
    }
   ],
   "source": [
    "#feature scaling: we are using normalization here\n",
    "\n",
    "from sklearn.preprocessing import MinMaxScaler\n",
    "sc= MinMaxScaler(feature_range=(0,1))\n",
    "training_set_scaled = sc.fit_transform(training_set)\n",
    "training_set_scaled"
   ]
  },
  {
   "cell_type": "code",
   "execution_count": 23,
   "metadata": {},
   "outputs": [],
   "source": [
    "X_train=[]\n",
    "y_train=[]\n",
    "for i in range(60,1258):\n",
    "    X_train.append(training_set_scaled[i-60:i,0]) \n",
    "    #print(training_set_scaled[i-60:i,0])\n",
    "\n",
    "    y_train.append(training_set_scaled[i,0])\n",
    "   # print(\"y_train : \",training_set_scaled[i,0])\n",
    "    \n",
    "#converting list to numpy array\n",
    "X_train, y_train = np.array(X_train), np.array(y_train)"
   ]
  },
  {
   "cell_type": "code",
   "execution_count": 24,
   "metadata": {},
   "outputs": [
    {
     "data": {
      "text/plain": [
       "1198"
      ]
     },
     "execution_count": 24,
     "metadata": {},
     "output_type": "execute_result"
    }
   ],
   "source": [
    "len(X_train)"
   ]
  },
  {
   "cell_type": "code",
   "execution_count": 25,
   "metadata": {},
   "outputs": [
    {
     "data": {
      "text/plain": [
       "1198"
      ]
     },
     "execution_count": 25,
     "metadata": {},
     "output_type": "execute_result"
    }
   ],
   "source": [
    "len(y_train)"
   ]
  },
  {
   "cell_type": "code",
   "execution_count": 26,
   "metadata": {},
   "outputs": [
    {
     "data": {
      "text/plain": [
       "array([[[0.08581368],\n",
       "        [0.09701243],\n",
       "        [0.09433366],\n",
       "        ...,\n",
       "        [0.07846566],\n",
       "        [0.08034452],\n",
       "        [0.08497656]],\n",
       "\n",
       "       [[0.09701243],\n",
       "        [0.09433366],\n",
       "        [0.09156187],\n",
       "        ...,\n",
       "        [0.08034452],\n",
       "        [0.08497656],\n",
       "        [0.08627874]],\n",
       "\n",
       "       [[0.09433366],\n",
       "        [0.09156187],\n",
       "        [0.07984225],\n",
       "        ...,\n",
       "        [0.08497656],\n",
       "        [0.08627874],\n",
       "        [0.08471612]],\n",
       "\n",
       "       ...,\n",
       "\n",
       "       [[0.92106928],\n",
       "        [0.92438053],\n",
       "        [0.93048218],\n",
       "        ...,\n",
       "        [0.95475854],\n",
       "        [0.95204256],\n",
       "        [0.95163331]],\n",
       "\n",
       "       [[0.92438053],\n",
       "        [0.93048218],\n",
       "        [0.9299055 ],\n",
       "        ...,\n",
       "        [0.95204256],\n",
       "        [0.95163331],\n",
       "        [0.95725128]],\n",
       "\n",
       "       [[0.93048218],\n",
       "        [0.9299055 ],\n",
       "        [0.93113327],\n",
       "        ...,\n",
       "        [0.95163331],\n",
       "        [0.95725128],\n",
       "        [0.93796041]]])"
      ]
     },
     "execution_count": 26,
     "metadata": {},
     "output_type": "execute_result"
    }
   ],
   "source": [
    "#Reshaping -  adding a new dimension to connvert 2D-3D\n",
    "X_train= np.reshape(X_train, (X_train.shape[0], X_train.shape[1],1))\n",
    "X_train"
   ]
  },
  {
   "cell_type": "code",
   "execution_count": 27,
   "metadata": {},
   "outputs": [],
   "source": [
    "# Building the RNN\n",
    "from keras.models import Sequential\n",
    "from keras.layers import Dense\n",
    "from keras.layers import LSTM\n",
    "from keras.layers import Dropout"
   ]
  },
  {
   "cell_type": "code",
   "execution_count": 28,
   "metadata": {},
   "outputs": [],
   "source": [
    "#initializing the RNN\n",
    "reg = Sequential()"
   ]
  },
  {
   "cell_type": "code",
   "execution_count": 30,
   "metadata": {},
   "outputs": [],
   "source": [
    "#adding LSTM layer and dropout regularization\n",
    "reg.add(LSTM(units=50, return_sequences = True,input_shape=(X_train.shape[1],1))) \n",
    "#50 neurons\n",
    "# Return sequences should be true if you want to add another LSTM layer\n",
    "\n",
    "\n",
    "# adding dropout regularization\n",
    "reg.add(Dropout(0.2)) #20% dropout (20% neurons will be ignored during each iteration of the training)"
   ]
  },
  {
   "cell_type": "code",
   "execution_count": 31,
   "metadata": {},
   "outputs": [],
   "source": [
    "#adding 2nd LSTM layers\n",
    "reg.add(LSTM(units=50, return_sequences = True)) \n",
    "reg.add(Dropout(0.2)) \n",
    "\n",
    "#adding 3rd LSTM layers\n",
    "reg.add(LSTM(units=50, return_sequences = True)) \n",
    "reg.add(Dropout(0.2)) \n",
    "\n",
    "#adding 4th LSTM layers\n",
    "reg.add(LSTM(units=50, return_sequences = False)) \n",
    "reg.add(Dropout(0.2))"
   ]
  },
  {
   "cell_type": "code",
   "execution_count": 33,
   "metadata": {},
   "outputs": [],
   "source": [
    "#Adding Output Layer\n",
    "reg.add(Dense(units=1))"
   ]
  },
  {
   "cell_type": "code",
   "execution_count": 38,
   "metadata": {},
   "outputs": [],
   "source": [
    "#compiling RNN\n",
    "reg.compile(optimizer='adam', loss= 'mean_squared_error') \n",
    "\n",
    "# RMSprop/adam is recommended fro RNN in Keras\n",
    "# loss is fro regression hence continuous loss function is needed which is MSE"
   ]
  },
  {
   "cell_type": "code",
   "execution_count": 39,
   "metadata": {},
   "outputs": [
    {
     "name": "stdout",
     "output_type": "stream",
     "text": [
      "Epoch 1/100\n",
      "38/38 [==============================] - 15s 105ms/step - loss: 0.0079\n",
      "Epoch 2/100\n",
      "38/38 [==============================] - 4s 109ms/step - loss: 0.0043\n",
      "Epoch 3/100\n",
      "38/38 [==============================] - 4s 113ms/step - loss: 0.0045\n",
      "Epoch 4/100\n",
      "38/38 [==============================] - 4s 110ms/step - loss: 0.0051\n",
      "Epoch 5/100\n",
      "38/38 [==============================] - 4s 110ms/step - loss: 0.0039\n",
      "Epoch 6/100\n",
      "38/38 [==============================] - 4s 111ms/step - loss: 0.0041\n",
      "Epoch 7/100\n",
      "38/38 [==============================] - 4s 114ms/step - loss: 0.0029\n",
      "Epoch 8/100\n",
      "38/38 [==============================] - 4s 117ms/step - loss: 0.0056\n",
      "Epoch 9/100\n",
      "38/38 [==============================] - 4s 115ms/step - loss: 0.0048\n",
      "Epoch 10/100\n",
      "38/38 [==============================] - 4s 116ms/step - loss: 0.0032\n",
      "Epoch 11/100\n",
      "38/38 [==============================] - 4s 112ms/step - loss: 0.0035\n",
      "Epoch 12/100\n",
      "38/38 [==============================] - 4s 116ms/step - loss: 0.0043\n",
      "Epoch 13/100\n",
      "38/38 [==============================] - 4s 111ms/step - loss: 0.0030\n",
      "Epoch 14/100\n",
      "38/38 [==============================] - 4s 117ms/step - loss: 0.0029\n",
      "Epoch 15/100\n",
      "38/38 [==============================] - 5s 121ms/step - loss: 0.0028\n",
      "Epoch 16/100\n",
      "38/38 [==============================] - 4s 110ms/step - loss: 0.0029\n",
      "Epoch 17/100\n",
      "38/38 [==============================] - 4s 111ms/step - loss: 0.0029\n",
      "Epoch 18/100\n",
      "38/38 [==============================] - 5s 128ms/step - loss: 0.0032\n",
      "Epoch 19/100\n",
      "38/38 [==============================] - 5s 118ms/step - loss: 0.0032\n",
      "Epoch 20/100\n",
      "38/38 [==============================] - 4s 104ms/step - loss: 0.0028\n",
      "Epoch 21/100\n",
      "38/38 [==============================] - 4s 111ms/step - loss: 0.0034\n",
      "Epoch 22/100\n",
      "38/38 [==============================] - 4s 112ms/step - loss: 0.0026\n",
      "Epoch 23/100\n",
      "38/38 [==============================] - 4s 115ms/step - loss: 0.0028\n",
      "Epoch 24/100\n",
      "38/38 [==============================] - 4s 113ms/step - loss: 0.0027\n",
      "Epoch 25/100\n",
      "38/38 [==============================] - 5s 121ms/step - loss: 0.0027\n",
      "Epoch 26/100\n",
      "38/38 [==============================] - 4s 112ms/step - loss: 0.0028\n",
      "Epoch 27/100\n",
      "38/38 [==============================] - 4s 110ms/step - loss: 0.0022\n",
      "Epoch 28/100\n",
      "38/38 [==============================] - 4s 115ms/step - loss: 0.0022\n",
      "Epoch 29/100\n",
      "38/38 [==============================] - 5s 120ms/step - loss: 0.0028\n",
      "Epoch 30/100\n",
      "38/38 [==============================] - 4s 118ms/step - loss: 0.0022\n",
      "Epoch 31/100\n",
      "38/38 [==============================] - 4s 112ms/step - loss: 0.0019\n",
      "Epoch 32/100\n",
      "38/38 [==============================] - 4s 113ms/step - loss: 0.0023\n",
      "Epoch 33/100\n",
      "38/38 [==============================] - 4s 111ms/step - loss: 0.0023\n",
      "Epoch 34/100\n",
      "38/38 [==============================] - 4s 114ms/step - loss: 0.0021\n",
      "Epoch 35/100\n",
      "38/38 [==============================] - 4s 112ms/step - loss: 0.0023\n",
      "Epoch 36/100\n",
      "38/38 [==============================] - 5s 124ms/step - loss: 0.0018\n",
      "Epoch 37/100\n",
      "38/38 [==============================] - 4s 111ms/step - loss: 0.0020\n",
      "Epoch 38/100\n",
      "38/38 [==============================] - 4s 112ms/step - loss: 0.0016\n",
      "Epoch 39/100\n",
      "38/38 [==============================] - 4s 106ms/step - loss: 0.0018\n",
      "Epoch 40/100\n",
      "38/38 [==============================] - 4s 110ms/step - loss: 0.0019\n",
      "Epoch 41/100\n",
      "38/38 [==============================] - 4s 105ms/step - loss: 0.0020\n",
      "Epoch 42/100\n",
      "38/38 [==============================] - 4s 106ms/step - loss: 0.0022\n",
      "Epoch 43/100\n",
      "38/38 [==============================] - 4s 106ms/step - loss: 0.0021\n",
      "Epoch 44/100\n",
      "38/38 [==============================] - 4s 113ms/step - loss: 0.0018\n",
      "Epoch 45/100\n",
      "38/38 [==============================] - 5s 122ms/step - loss: 0.0017\n",
      "Epoch 46/100\n",
      "38/38 [==============================] - 4s 116ms/step - loss: 0.0022\n",
      "Epoch 47/100\n",
      "38/38 [==============================] - 5s 124ms/step - loss: 0.0019\n",
      "Epoch 48/100\n",
      "38/38 [==============================] - 4s 111ms/step - loss: 0.0018\n",
      "Epoch 49/100\n",
      "38/38 [==============================] - 4s 107ms/step - loss: 0.0026\n",
      "Epoch 50/100\n",
      "38/38 [==============================] - 4s 114ms/step - loss: 0.0017\n",
      "Epoch 51/100\n",
      "38/38 [==============================] - 4s 116ms/step - loss: 0.0018\n",
      "Epoch 52/100\n",
      "38/38 [==============================] - 4s 113ms/step - loss: 0.0016\n",
      "Epoch 53/100\n",
      "38/38 [==============================] - 4s 113ms/step - loss: 0.0018\n",
      "Epoch 54/100\n",
      "38/38 [==============================] - 4s 113ms/step - loss: 0.0014\n",
      "Epoch 55/100\n",
      "38/38 [==============================] - 4s 110ms/step - loss: 0.0016\n",
      "Epoch 56/100\n",
      "38/38 [==============================] - 4s 99ms/step - loss: 0.0017\n",
      "Epoch 57/100\n",
      "38/38 [==============================] - 4s 98ms/step - loss: 0.0016\n",
      "Epoch 58/100\n",
      "38/38 [==============================] - 4s 98ms/step - loss: 0.0015\n",
      "Epoch 59/100\n",
      "38/38 [==============================] - 4s 107ms/step - loss: 0.0017\n",
      "Epoch 60/100\n",
      "38/38 [==============================] - 4s 100ms/step - loss: 0.0015\n",
      "Epoch 61/100\n",
      "38/38 [==============================] - 4s 104ms/step - loss: 0.0016\n",
      "Epoch 62/100\n",
      "38/38 [==============================] - 4s 109ms/step - loss: 0.0014\n",
      "Epoch 63/100\n",
      "38/38 [==============================] - 4s 113ms/step - loss: 0.0016\n",
      "Epoch 64/100\n",
      "38/38 [==============================] - 4s 104ms/step - loss: 0.0014\n",
      "Epoch 65/100\n",
      "38/38 [==============================] - 4s 106ms/step - loss: 0.0015\n",
      "Epoch 66/100\n",
      "38/38 [==============================] - 4s 106ms/step - loss: 0.0014\n",
      "Epoch 67/100\n",
      "38/38 [==============================] - 4s 111ms/step - loss: 0.0014\n",
      "Epoch 68/100\n",
      "38/38 [==============================] - 4s 105ms/step - loss: 0.0014\n",
      "Epoch 69/100\n",
      "38/38 [==============================] - 4s 105ms/step - loss: 0.0013\n",
      "Epoch 70/100\n",
      "38/38 [==============================] - 4s 104ms/step - loss: 0.0015\n",
      "Epoch 71/100\n",
      "38/38 [==============================] - 4s 108ms/step - loss: 0.0012\n",
      "Epoch 72/100\n",
      "38/38 [==============================] - 4s 103ms/step - loss: 0.0013\n",
      "Epoch 73/100\n",
      "38/38 [==============================] - 4s 103ms/step - loss: 0.0012\n",
      "Epoch 74/100\n",
      "38/38 [==============================] - 4s 104ms/step - loss: 0.0012\n",
      "Epoch 75/100\n",
      "38/38 [==============================] - 4s 114ms/step - loss: 0.0011\n",
      "Epoch 76/100\n",
      "38/38 [==============================] - 4s 105ms/step - loss: 0.0010\n",
      "Epoch 77/100\n",
      "38/38 [==============================] - 4s 105ms/step - loss: 0.0012\n",
      "Epoch 78/100\n",
      "38/38 [==============================] - 4s 106ms/step - loss: 0.0013\n",
      "Epoch 79/100\n",
      "38/38 [==============================] - 4s 110ms/step - loss: 0.0012\n",
      "Epoch 80/100\n",
      "38/38 [==============================] - 4s 107ms/step - loss: 0.0012\n",
      "Epoch 81/100\n",
      "38/38 [==============================] - 4s 107ms/step - loss: 0.0013\n",
      "Epoch 82/100\n",
      "38/38 [==============================] - 4s 104ms/step - loss: 0.0013\n",
      "Epoch 83/100\n",
      "38/38 [==============================] - 4s 113ms/step - loss: 0.0013\n",
      "Epoch 84/100\n",
      "38/38 [==============================] - 4s 106ms/step - loss: 0.0012\n",
      "Epoch 85/100\n",
      "38/38 [==============================] - 4s 107ms/step - loss: 0.0011\n",
      "Epoch 86/100\n",
      "38/38 [==============================] - 4s 110ms/step - loss: 0.0011\n",
      "Epoch 87/100\n",
      "38/38 [==============================] - 4s 106ms/step - loss: 0.0012\n",
      "Epoch 88/100\n",
      "38/38 [==============================] - 4s 106ms/step - loss: 0.0012\n",
      "Epoch 89/100\n",
      "38/38 [==============================] - 4s 106ms/step - loss: 0.0012\n",
      "Epoch 90/100\n",
      "38/38 [==============================] - 4s 110ms/step - loss: 0.0012\n",
      "Epoch 91/100\n",
      "38/38 [==============================] - 4s 109ms/step - loss: 0.0012\n",
      "Epoch 92/100\n",
      "38/38 [==============================] - 4s 105ms/step - loss: 0.0013\n",
      "Epoch 93/100\n",
      "38/38 [==============================] - 4s 105ms/step - loss: 9.4548e-04\n",
      "Epoch 94/100\n",
      "38/38 [==============================] - 4s 108ms/step - loss: 0.0011\n",
      "Epoch 95/100\n",
      "38/38 [==============================] - 4s 104ms/step - loss: 0.0012\n",
      "Epoch 96/100\n",
      "38/38 [==============================] - 4s 105ms/step - loss: 0.0014\n",
      "Epoch 97/100\n",
      "38/38 [==============================] - 4s 106ms/step - loss: 0.0012\n",
      "Epoch 98/100\n",
      "38/38 [==============================] - 4s 112ms/step - loss: 0.0011\n",
      "Epoch 99/100\n",
      "38/38 [==============================] - 4s 104ms/step - loss: 0.0014\n",
      "Epoch 100/100\n",
      "38/38 [==============================] - 4s 105ms/step - loss: 0.0012\n"
     ]
    },
    {
     "data": {
      "text/plain": [
       "<tensorflow.python.keras.callbacks.History at 0x211e8f3c670>"
      ]
     },
     "execution_count": 39,
     "metadata": {},
     "output_type": "execute_result"
    }
   ],
   "source": [
    "#fitting the RNN to the training set\n",
    "\n",
    "reg.fit(X_train, y_train, epochs=100, batch_size=32)"
   ]
  },
  {
   "cell_type": "code",
   "execution_count": 42,
   "metadata": {},
   "outputs": [],
   "source": [
    "# making the predictiona nd visualizing the results\n",
    "data_test = pd.read_csv(\"Google_stock_Price_Test.csv\")\n",
    "real_stock_price = data_test.iloc[:,1:2].values\n",
    "#real_stock_price"
   ]
  },
  {
   "cell_type": "code",
   "execution_count": 44,
   "metadata": {},
   "outputs": [],
   "source": [
    "#getting the  predicted stock prices in 2017\n",
    "data_total = pd.concat((data_train[\"Open\"], data_test[\"Open\"]), axis =0) #vertical concat\n",
    "inputs=data_total[len(data_total)-len(data_test) -60:].values\n",
    "inputs= inputs.reshape(-1,1)\n",
    "inputs= sc.transform(inputs)  #sc object was alred fitted hence using transform"
   ]
  },
  {
   "cell_type": "code",
   "execution_count": 45,
   "metadata": {},
   "outputs": [],
   "source": [
    "X_test=[]\n",
    "\n",
    "for i in range(60,80):\n",
    "    X_test.append(inputs[i-60:i,0]) \n",
    "    \n",
    "    \n",
    "#converting list to numpy array\n",
    "X_test = np.array(X_test)"
   ]
  },
  {
   "cell_type": "code",
   "execution_count": 46,
   "metadata": {},
   "outputs": [],
   "source": [
    "X_test = np.reshape(X_test, (X_test.shape[0], X_test.shape[1], 1)) #3d structure"
   ]
  },
  {
   "cell_type": "code",
   "execution_count": 47,
   "metadata": {},
   "outputs": [],
   "source": [
    "predicted_Google_stock_price= reg.predict(X_test)\n",
    "#inverse transform \n",
    "predicted_Google_stock_price= sc.inverse_transform(predicted_Google_stock_price)\n"
   ]
  },
  {
   "cell_type": "code",
   "execution_count": 48,
   "metadata": {},
   "outputs": [
    {
     "data": {
      "text/plain": [
       "array([[766.0644 ],\n",
       "       [762.75604],\n",
       "       [770.8874 ],\n",
       "       [767.027  ],\n",
       "       [774.96185],\n",
       "       [783.0924 ],\n",
       "       [782.1612 ],\n",
       "       [779.81195],\n",
       "       [782.7377 ],\n",
       "       [782.7025 ],\n",
       "       [782.3128 ],\n",
       "       [781.45   ],\n",
       "       [781.29755],\n",
       "       [783.1029 ],\n",
       "       [783.14014],\n",
       "       [796.6918 ],\n",
       "       [799.89557],\n",
       "       [806.5921 ],\n",
       "       [802.78625],\n",
       "       [787.4885 ]], dtype=float32)"
      ]
     },
     "execution_count": 48,
     "metadata": {},
     "output_type": "execute_result"
    }
   ],
   "source": [
    "predicted_Google_stock_price"
   ]
  },
  {
   "cell_type": "code",
   "execution_count": 50,
   "metadata": {},
   "outputs": [
    {
     "data": {
      "image/png": "[encoded data removed]",
      "text/plain": [
       "<Figure size 432x288 with 1 Axes>"
      ]
     },
     "metadata": {
      "needs_background": "light"
     },
     "output_type": "display_data"
    }
   ],
   "source": [
    "#visualizing the final results\n",
    "plt.plot(real_stock_price, color='red', label='Real Google Stock Price')\n",
    "plt.plot(predicted_Google_stock_price, color='blue', label='Predicted Google Stock Price')\n",
    "plt.title(\"Google Stock Price Prediction\")\n",
    "plt.xlabel(\"Time\")\n",
    "plt.xlabel(\"Stock Price\")\n",
    "plt.legend()\n",
    "plt.show()"
   ]
  }
 ],
 "metadata": {
  "kernelspec": {
   "display_name": "Python 3",
   "language": "python",
   "name": "python3"
  },
  "language_info": {
   "codemirror_mode": {
    "name": "ipython",
    "version": 3
   },
   "file_extension": ".py",
   "mimetype": "text/x-python",
   "name": "python",
   "nbconvert_exporter": "python",
   "pygments_lexer": "ipython3",
   "version": "3.8.5"
  }
 },
 "nbformat": 4,
 "nbformat_minor": 4
}
